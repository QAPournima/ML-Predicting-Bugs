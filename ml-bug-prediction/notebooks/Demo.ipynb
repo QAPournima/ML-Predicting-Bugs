{
 "cells": [
  {
   "cell_type": "code",
   "execution_count": 14,
   "id": "431a91b8",
   "metadata": {},
   "outputs": [
    {
     "name": "stdout",
     "output_type": "stream",
     "text": [
      "Requirement already satisfied: plotly in /Users/pournima/Documents/ML in QA /venv/lib/python3.13/site-packages (6.1.2)\n",
      "Requirement already satisfied: narwhals>=1.15.1 in /Users/pournima/Documents/ML in QA /venv/lib/python3.13/site-packages (from plotly) (1.42.1)\n",
      "Requirement already satisfied: packaging in /Users/pournima/Documents/ML in QA /venv/lib/python3.13/site-packages (from plotly) (25.0)\n",
      "Note: you may need to restart the kernel to use updated packages.\n",
      "Requirement already satisfied: kaleido in /Users/pournima/Documents/ML in QA /venv/lib/python3.13/site-packages (0.2.1)\n",
      "Note: you may need to restart the kernel to use updated packages.\n"
     ]
    },
    {
     "data": {
      "text/html": [
       "\n",
       "<div style=\"background: #111; border-radius: 12px; padding: 18px 28px; margin-bottom: 24px; box-shadow: 0 2px 8px #222; text-align:center;\">\n",
       "    <h2 style=\"margin-top:0; color:#ffe066;\">🔎 <b>Bug Risk Analysis: DemoData (APP)</b></h2>\n",
       "    <p style=\"font-size: 1.5em; color: #fff; margin: 0 auto; display: inline-block; text-align: center;\">\n",
       "        Analyzing bug distribution and risk scores to spotlight the most vulnerable components.<br>\n",
       "        <b>Data window:</b> Last 6 months<br>\n",
       "        <b>Use:</b> Guide testing, triage, and resource allocation.\n",
       "    </p>\n",
       "</div>\n"
      ],
      "text/plain": [
       "<IPython.core.display.HTML object>"
      ]
     },
     "metadata": {},
     "output_type": "display_data"
    },
    {
     "data": {
      "application/vnd.plotly.v1+json": {
       "config": {
        "plotlyServerURL": "https://plot.ly"
       },
       "data": [
        {
         "hole": 0.3,
         "hoverinfo": "label+percent",
         "labels": [
          "Call",
          "CallHistory",
          "Notifications",
          "Messages",
          "Call detail",
          "Messaging",
          "CallHistory, Messages",
          "Tech",
          "People/Contacts",
          "Settings",
          "Other"
         ],
         "marker": {
          "line": {
           "color": "#000",
           "width": 2
          }
         },
         "pull": [
          0.08,
          0.08,
          0.08,
          0.08,
          0.08,
          0.08,
          0.08,
          0.08,
          0.08,
          0.08,
          0.08
         ],
         "textfont": {
          "color": "white",
          "size": 20
         },
         "textinfo": "label+percent",
         "type": "pie",
         "values": [
          29,
          15,
          5,
          5,
          4,
          4,
          3,
          3,
          3,
          3,
          22
         ]
        }
       ],
       "layout": {
        "font": {
         "color": "white",
         "size": 18
        },
        "height": 700,
        "paper_bgcolor": "#222",
        "plot_bgcolor": "#222",
        "showlegend": true,
        "template": {
         "data": {
          "bar": [
           {
            "error_x": {
             "color": "#2a3f5f"
            },
            "error_y": {
             "color": "#2a3f5f"
            },
            "marker": {
             "line": {
              "color": "#E5ECF6",
              "width": 0.5
             },
             "pattern": {
              "fillmode": "overlay",
              "size": 10,
              "solidity": 0.2
             }
            },
            "type": "bar"
           }
          ],
          "barpolar": [
           {
            "marker": {
             "line": {
              "color": "#E5ECF6",
              "width": 0.5
             },
             "pattern": {
              "fillmode": "overlay",
              "size": 10,
              "solidity": 0.2
             }
            },
            "type": "barpolar"
           }
          ],
          "carpet": [
           {
            "aaxis": {
             "endlinecolor": "#2a3f5f",
             "gridcolor": "white",
             "linecolor": "white",
             "minorgridcolor": "white",
             "startlinecolor": "#2a3f5f"
            },
            "baxis": {
             "endlinecolor": "#2a3f5f",
             "gridcolor": "white",
             "linecolor": "white",
             "minorgridcolor": "white",
             "startlinecolor": "#2a3f5f"
            },
            "type": "carpet"
           }
          ],
          "choropleth": [
           {
            "colorbar": {
             "outlinewidth": 0,
             "ticks": ""
            },
            "type": "choropleth"
           }
          ],
          "contour": [
           {
            "colorbar": {
             "outlinewidth": 0,
             "ticks": ""
            },
            "colorscale": [
             [
              0,
              "#0d0887"
             ],
             [
              0.1111111111111111,
              "#46039f"
             ],
             [
              0.2222222222222222,
              "#7201a8"
             ],
             [
              0.3333333333333333,
              "#9c179e"
             ],
             [
              0.4444444444444444,
              "#bd3786"
             ],
             [
              0.5555555555555556,
              "#d8576b"
             ],
             [
              0.6666666666666666,
              "#ed7953"
             ],
             [
              0.7777777777777778,
              "#fb9f3a"
             ],
             [
              0.8888888888888888,
              "#fdca26"
             ],
             [
              1,
              "#f0f921"
             ]
            ],
            "type": "contour"
           }
          ],
          "contourcarpet": [
           {
            "colorbar": {
             "outlinewidth": 0,
             "ticks": ""
            },
            "type": "contourcarpet"
           }
          ],
          "heatmap": [
           {
            "colorbar": {
             "outlinewidth": 0,
             "ticks": ""
            },
            "colorscale": [
             [
              0,
              "#0d0887"
             ],
             [
              0.1111111111111111,
              "#46039f"
             ],
             [
              0.2222222222222222,
              "#7201a8"
             ],
             [
              0.3333333333333333,
              "#9c179e"
             ],
             [
              0.4444444444444444,
              "#bd3786"
             ],
             [
              0.5555555555555556,
              "#d8576b"
             ],
             [
              0.6666666666666666,
              "#ed7953"
             ],
             [
              0.7777777777777778,
              "#fb9f3a"
             ],
             [
              0.8888888888888888,
              "#fdca26"
             ],
             [
              1,
              "#f0f921"
             ]
            ],
            "type": "heatmap"
           }
          ],
          "histogram": [
           {
            "marker": {
             "pattern": {
              "fillmode": "overlay",
              "size": 10,
              "solidity": 0.2
             }
            },
            "type": "histogram"
           }
          ],
          "histogram2d": [
           {
            "colorbar": {
             "outlinewidth": 0,
             "ticks": ""
            },
            "colorscale": [
             [
              0,
              "#0d0887"
             ],
             [
              0.1111111111111111,
              "#46039f"
             ],
             [
              0.2222222222222222,
              "#7201a8"
             ],
             [
              0.3333333333333333,
              "#9c179e"
             ],
             [
              0.4444444444444444,
              "#bd3786"
             ],
             [
              0.5555555555555556,
              "#d8576b"
             ],
             [
              0.6666666666666666,
              "#ed7953"
             ],
             [
              0.7777777777777778,
              "#fb9f3a"
             ],
             [
              0.8888888888888888,
              "#fdca26"
             ],
             [
              1,
              "#f0f921"
             ]
            ],
            "type": "histogram2d"
           }
          ],
          "histogram2dcontour": [
           {
            "colorbar": {
             "outlinewidth": 0,
             "ticks": ""
            },
            "colorscale": [
             [
              0,
              "#0d0887"
             ],
             [
              0.1111111111111111,
              "#46039f"
             ],
             [
              0.2222222222222222,
              "#7201a8"
             ],
             [
              0.3333333333333333,
              "#9c179e"
             ],
             [
              0.4444444444444444,
              "#bd3786"
             ],
             [
              0.5555555555555556,
              "#d8576b"
             ],
             [
              0.6666666666666666,
              "#ed7953"
             ],
             [
              0.7777777777777778,
              "#fb9f3a"
             ],
             [
              0.8888888888888888,
              "#fdca26"
             ],
             [
              1,
              "#f0f921"
             ]
            ],
            "type": "histogram2dcontour"
           }
          ],
          "mesh3d": [
           {
            "colorbar": {
             "outlinewidth": 0,
             "ticks": ""
            },
            "type": "mesh3d"
           }
          ],
          "parcoords": [
           {
            "line": {
             "colorbar": {
              "outlinewidth": 0,
              "ticks": ""
             }
            },
            "type": "parcoords"
           }
          ],
          "pie": [
           {
            "automargin": true,
            "type": "pie"
           }
          ],
          "scatter": [
           {
            "fillpattern": {
             "fillmode": "overlay",
             "size": 10,
             "solidity": 0.2
            },
            "type": "scatter"
           }
          ],
          "scatter3d": [
           {
            "line": {
             "colorbar": {
              "outlinewidth": 0,
              "ticks": ""
             }
            },
            "marker": {
             "colorbar": {
              "outlinewidth": 0,
              "ticks": ""
             }
            },
            "type": "scatter3d"
           }
          ],
          "scattercarpet": [
           {
            "marker": {
             "colorbar": {
              "outlinewidth": 0,
              "ticks": ""
             }
            },
            "type": "scattercarpet"
           }
          ],
          "scattergeo": [
           {
            "marker": {
             "colorbar": {
              "outlinewidth": 0,
              "ticks": ""
             }
            },
            "type": "scattergeo"
           }
          ],
          "scattergl": [
           {
            "marker": {
             "colorbar": {
              "outlinewidth": 0,
              "ticks": ""
             }
            },
            "type": "scattergl"
           }
          ],
          "scattermap": [
           {
            "marker": {
             "colorbar": {
              "outlinewidth": 0,
              "ticks": ""
             }
            },
            "type": "scattermap"
           }
          ],
          "scattermapbox": [
           {
            "marker": {
             "colorbar": {
              "outlinewidth": 0,
              "ticks": ""
             }
            },
            "type": "scattermapbox"
           }
          ],
          "scatterpolar": [
           {
            "marker": {
             "colorbar": {
              "outlinewidth": 0,
              "ticks": ""
             }
            },
            "type": "scatterpolar"
           }
          ],
          "scatterpolargl": [
           {
            "marker": {
             "colorbar": {
              "outlinewidth": 0,
              "ticks": ""
             }
            },
            "type": "scatterpolargl"
           }
          ],
          "scatterternary": [
           {
            "marker": {
             "colorbar": {
              "outlinewidth": 0,
              "ticks": ""
             }
            },
            "type": "scatterternary"
           }
          ],
          "surface": [
           {
            "colorbar": {
             "outlinewidth": 0,
             "ticks": ""
            },
            "colorscale": [
             [
              0,
              "#0d0887"
             ],
             [
              0.1111111111111111,
              "#46039f"
             ],
             [
              0.2222222222222222,
              "#7201a8"
             ],
             [
              0.3333333333333333,
              "#9c179e"
             ],
             [
              0.4444444444444444,
              "#bd3786"
             ],
             [
              0.5555555555555556,
              "#d8576b"
             ],
             [
              0.6666666666666666,
              "#ed7953"
             ],
             [
              0.7777777777777778,
              "#fb9f3a"
             ],
             [
              0.8888888888888888,
              "#fdca26"
             ],
             [
              1,
              "#f0f921"
             ]
            ],
            "type": "surface"
           }
          ],
          "table": [
           {
            "cells": {
             "fill": {
              "color": "#EBF0F8"
             },
             "line": {
              "color": "white"
             }
            },
            "header": {
             "fill": {
              "color": "#C8D4E3"
             },
             "line": {
              "color": "white"
             }
            },
            "type": "table"
           }
          ]
         },
         "layout": {
          "annotationdefaults": {
           "arrowcolor": "#2a3f5f",
           "arrowhead": 0,
           "arrowwidth": 1
          },
          "autotypenumbers": "strict",
          "coloraxis": {
           "colorbar": {
            "outlinewidth": 0,
            "ticks": ""
           }
          },
          "colorscale": {
           "diverging": [
            [
             0,
             "#8e0152"
            ],
            [
             0.1,
             "#c51b7d"
            ],
            [
             0.2,
             "#de77ae"
            ],
            [
             0.3,
             "#f1b6da"
            ],
            [
             0.4,
             "#fde0ef"
            ],
            [
             0.5,
             "#f7f7f7"
            ],
            [
             0.6,
             "#e6f5d0"
            ],
            [
             0.7,
             "#b8e186"
            ],
            [
             0.8,
             "#7fbc41"
            ],
            [
             0.9,
             "#4d9221"
            ],
            [
             1,
             "#276419"
            ]
           ],
           "sequential": [
            [
             0,
             "#0d0887"
            ],
            [
             0.1111111111111111,
             "#46039f"
            ],
            [
             0.2222222222222222,
             "#7201a8"
            ],
            [
             0.3333333333333333,
             "#9c179e"
            ],
            [
             0.4444444444444444,
             "#bd3786"
            ],
            [
             0.5555555555555556,
             "#d8576b"
            ],
            [
             0.6666666666666666,
             "#ed7953"
            ],
            [
             0.7777777777777778,
             "#fb9f3a"
            ],
            [
             0.8888888888888888,
             "#fdca26"
            ],
            [
             1,
             "#f0f921"
            ]
           ],
           "sequentialminus": [
            [
             0,
             "#0d0887"
            ],
            [
             0.1111111111111111,
             "#46039f"
            ],
            [
             0.2222222222222222,
             "#7201a8"
            ],
            [
             0.3333333333333333,
             "#9c179e"
            ],
            [
             0.4444444444444444,
             "#bd3786"
            ],
            [
             0.5555555555555556,
             "#d8576b"
            ],
            [
             0.6666666666666666,
             "#ed7953"
            ],
            [
             0.7777777777777778,
             "#fb9f3a"
            ],
            [
             0.8888888888888888,
             "#fdca26"
            ],
            [
             1,
             "#f0f921"
            ]
           ]
          },
          "colorway": [
           "#636efa",
           "#EF553B",
           "#00cc96",
           "#ab63fa",
           "#FFA15A",
           "#19d3f3",
           "#FF6692",
           "#B6E880",
           "#FF97FF",
           "#FECB52"
          ],
          "font": {
           "color": "#2a3f5f"
          },
          "geo": {
           "bgcolor": "white",
           "lakecolor": "white",
           "landcolor": "#E5ECF6",
           "showlakes": true,
           "showland": true,
           "subunitcolor": "white"
          },
          "hoverlabel": {
           "align": "left"
          },
          "hovermode": "closest",
          "mapbox": {
           "style": "light"
          },
          "paper_bgcolor": "white",
          "plot_bgcolor": "#E5ECF6",
          "polar": {
           "angularaxis": {
            "gridcolor": "white",
            "linecolor": "white",
            "ticks": ""
           },
           "bgcolor": "#E5ECF6",
           "radialaxis": {
            "gridcolor": "white",
            "linecolor": "white",
            "ticks": ""
           }
          },
          "scene": {
           "xaxis": {
            "backgroundcolor": "#E5ECF6",
            "gridcolor": "white",
            "gridwidth": 2,
            "linecolor": "white",
            "showbackground": true,
            "ticks": "",
            "zerolinecolor": "white"
           },
           "yaxis": {
            "backgroundcolor": "#E5ECF6",
            "gridcolor": "white",
            "gridwidth": 2,
            "linecolor": "white",
            "showbackground": true,
            "ticks": "",
            "zerolinecolor": "white"
           },
           "zaxis": {
            "backgroundcolor": "#E5ECF6",
            "gridcolor": "white",
            "gridwidth": 2,
            "linecolor": "white",
            "showbackground": true,
            "ticks": "",
            "zerolinecolor": "white"
           }
          },
          "shapedefaults": {
           "line": {
            "color": "#2a3f5f"
           }
          },
          "ternary": {
           "aaxis": {
            "gridcolor": "white",
            "linecolor": "white",
            "ticks": ""
           },
           "baxis": {
            "gridcolor": "white",
            "linecolor": "white",
            "ticks": ""
           },
           "bgcolor": "#E5ECF6",
           "caxis": {
            "gridcolor": "white",
            "linecolor": "white",
            "ticks": ""
           }
          },
          "title": {
           "x": 0.05
          },
          "xaxis": {
           "automargin": true,
           "gridcolor": "white",
           "linecolor": "white",
           "ticks": "",
           "title": {
            "standoff": 15
           },
           "zerolinecolor": "white",
           "zerolinewidth": 2
          },
          "yaxis": {
           "automargin": true,
           "gridcolor": "white",
           "linecolor": "white",
           "ticks": "",
           "title": {
            "standoff": 15
           },
           "zerolinecolor": "white",
           "zerolinewidth": 2
          }
         }
        },
        "title": {
         "font": {
          "size": 20
         },
         "text": "DemoData (APP) Bugs Distribution by Component (Last 6 Months)"
        },
        "width": 900
       }
      }
     },
     "metadata": {},
     "output_type": "display_data"
    },
    {
     "data": {
      "text/html": [
       "\n",
       "<div style=\"background: #111; border-radius: 12px; padding: 18px 28px; margin-bottom: 24px; box-shadow: 0 2px 8px #222;\">\n",
       "    <h2 style=\"margin-top:0; color:#ffe066;\">✨ <b>Risk Scoring Summary for DemoData (APP)</b> ✨</h2>\n",
       "    <ul style=\"font-size: 1.2em; color: #fff;\">\n",
       "        <li><b>Total bugs (last 6 months):</b> 96</li>\n",
       "        <li><b>Top risk component:</b> <span style=\"color:#ffd166;\">Call</span>\n",
       "            (29 occurrences in 29 bugs)\n",
       "        </li>\n",
       "        <li><b>Scoring based on:</b> Created date in last 6 months</li>\n",
       "    </ul>\n",
       "</div>\n"
      ],
      "text/plain": [
       "<IPython.core.display.HTML object>"
      ]
     },
     "metadata": {},
     "output_type": "display_data"
    },
    {
     "data": {
      "text/html": [
       "\n",
       "<div style=\"display: flex; flex-direction: column; align-items: center;\">\n",
       "    <h3 style=\"text-align:center; color:#ffd166;\">📊 <b>Top Components by Bug Count</b></h3>\n",
       "    <div style=\"min-width:450px; max-width:900px;\">\n",
       "        <style type=\"text/css\">\n",
       "#T_cc226 th {\n",
       "  background-color: #1a1368;\n",
       "  color: white;\n",
       "  font-size: 1.1em;\n",
       "}\n",
       "#T_cc226_row0_col2 {\n",
       "  background-color: #ff4d4d;\n",
       "  color: white;\n",
       "  font-weight: bold;\n",
       "}\n",
       "#T_cc226_row0_col3, #T_cc226_row1_col3, #T_cc226_row2_col3, #T_cc226_row3_col3, #T_cc226_row4_col3, #T_cc226_row5_col3, #T_cc226_row6_col3, #T_cc226_row7_col3, #T_cc226_row8_col3, #T_cc226_row9_col3 {\n",
       "  white-space: pre-wrap;\n",
       "  word-break: break-word;\n",
       "  max-width: 400px;\n",
       "}\n",
       "#T_cc226_row1_col2, #T_cc226_row2_col2, #T_cc226_row3_col2, #T_cc226_row4_col2, #T_cc226_row5_col2, #T_cc226_row6_col2 {\n",
       "  background-color: #ffd966;\n",
       "  color: black;\n",
       "  font-weight: bold;\n",
       "}\n",
       "#T_cc226_row7_col2, #T_cc226_row8_col2, #T_cc226_row9_col2 {\n",
       "  background-color: #85e085;\n",
       "  color: black;\n",
       "  font-weight: bold;\n",
       "}\n",
       "</style>\n",
       "<table id=\"T_cc226\">\n",
       "  <thead>\n",
       "    <tr>\n",
       "      <th class=\"blank level0\" >&nbsp;</th>\n",
       "      <th id=\"T_cc226_level0_col0\" class=\"col_heading level0 col0\" >🧩 Component</th>\n",
       "      <th id=\"T_cc226_level0_col1\" class=\"col_heading level0 col1\" >🐞 Bug Count</th>\n",
       "      <th id=\"T_cc226_level0_col2\" class=\"col_heading level0 col2\" >Risk Score</th>\n",
       "      <th id=\"T_cc226_level0_col3\" class=\"col_heading level0 col3\" >Explanation</th>\n",
       "    </tr>\n",
       "  </thead>\n",
       "  <tbody>\n",
       "    <tr>\n",
       "      <th id=\"T_cc226_level0_row0\" class=\"row_heading level0 row0\" >0</th>\n",
       "      <td id=\"T_cc226_row0_col0\" class=\"data row0 col0\" >Call</td>\n",
       "      <td id=\"T_cc226_row0_col1\" class=\"data row0 col1\" >29</td>\n",
       "      <td id=\"T_cc226_row0_col2\" class=\"data row0 col2\" >21</td>\n",
       "      <td id=\"T_cc226_row0_col3\" class=\"data row0 col3\" >The \"Call\" component has a very high history of bugs, making it high-risk.</td>\n",
       "    </tr>\n",
       "    <tr>\n",
       "      <th id=\"T_cc226_level0_row1\" class=\"row_heading level0 row1\" >1</th>\n",
       "      <td id=\"T_cc226_row1_col0\" class=\"data row1 col0\" >CallHistory</td>\n",
       "      <td id=\"T_cc226_row1_col1\" class=\"data row1 col1\" >20</td>\n",
       "      <td id=\"T_cc226_row1_col2\" class=\"data row1 col2\" >20</td>\n",
       "      <td id=\"T_cc226_row1_col3\" class=\"data row1 col3\" >The \"CallHistory\" component has a moderate risk based on recent bug frequency.</td>\n",
       "    </tr>\n",
       "    <tr>\n",
       "      <th id=\"T_cc226_level0_row2\" class=\"row_heading level0 row2\" >2</th>\n",
       "      <td id=\"T_cc226_row2_col0\" class=\"data row2 col0\" >Messages</td>\n",
       "      <td id=\"T_cc226_row2_col1\" class=\"data row2 col1\" >8</td>\n",
       "      <td id=\"T_cc226_row2_col2\" class=\"data row2 col2\" >19</td>\n",
       "      <td id=\"T_cc226_row2_col3\" class=\"data row2 col3\" >The \"Messages\" component has a moderate risk based on recent bug frequency.</td>\n",
       "    </tr>\n",
       "    <tr>\n",
       "      <th id=\"T_cc226_level0_row3\" class=\"row_heading level0 row3\" >3</th>\n",
       "      <td id=\"T_cc226_row3_col0\" class=\"data row3 col0\" >Messaging</td>\n",
       "      <td id=\"T_cc226_row3_col1\" class=\"data row3 col1\" >5</td>\n",
       "      <td id=\"T_cc226_row3_col2\" class=\"data row3 col2\" >17</td>\n",
       "      <td id=\"T_cc226_row3_col3\" class=\"data row3 col3\" >The \"Messaging\" component has a moderate risk based on recent bug frequency.</td>\n",
       "    </tr>\n",
       "    <tr>\n",
       "      <th id=\"T_cc226_level0_row4\" class=\"row_heading level0 row4\" >4</th>\n",
       "      <td id=\"T_cc226_row4_col0\" class=\"data row4 col0\" >Notifications</td>\n",
       "      <td id=\"T_cc226_row4_col1\" class=\"data row4 col1\" >5</td>\n",
       "      <td id=\"T_cc226_row4_col2\" class=\"data row4 col2\" >17</td>\n",
       "      <td id=\"T_cc226_row4_col3\" class=\"data row4 col3\" >The \"Notifications\" component has a moderate risk based on recent bug frequency.</td>\n",
       "    </tr>\n",
       "    <tr>\n",
       "      <th id=\"T_cc226_level0_row5\" class=\"row_heading level0 row5\" >5</th>\n",
       "      <td id=\"T_cc226_row5_col0\" class=\"data row5 col0\" >Call detail</td>\n",
       "      <td id=\"T_cc226_row5_col1\" class=\"data row5 col1\" >4</td>\n",
       "      <td id=\"T_cc226_row5_col2\" class=\"data row5 col2\" >15</td>\n",
       "      <td id=\"T_cc226_row5_col3\" class=\"data row5 col3\" >The \"Call detail\" component has a moderate risk based on recent bug frequency.</td>\n",
       "    </tr>\n",
       "    <tr>\n",
       "      <th id=\"T_cc226_level0_row6\" class=\"row_heading level0 row6\" >6</th>\n",
       "      <td id=\"T_cc226_row6_col0\" class=\"data row6 col0\" >Call-action</td>\n",
       "      <td id=\"T_cc226_row6_col1\" class=\"data row6 col1\" >4</td>\n",
       "      <td id=\"T_cc226_row6_col2\" class=\"data row6 col2\" >15</td>\n",
       "      <td id=\"T_cc226_row6_col3\" class=\"data row6 col3\" >The \"Call-action\" component has a moderate risk based on recent bug frequency.</td>\n",
       "    </tr>\n",
       "    <tr>\n",
       "      <th id=\"T_cc226_level0_row7\" class=\"row_heading level0 row7\" >7</th>\n",
       "      <td id=\"T_cc226_row7_col0\" class=\"data row7 col0\" >Tech</td>\n",
       "      <td id=\"T_cc226_row7_col1\" class=\"data row7 col1\" >3</td>\n",
       "      <td id=\"T_cc226_row7_col2\" class=\"data row7 col2\" >11</td>\n",
       "      <td id=\"T_cc226_row7_col3\" class=\"data row7 col3\" >The \"Tech\" component has a moderate risk based on recent bug frequency.</td>\n",
       "    </tr>\n",
       "    <tr>\n",
       "      <th id=\"T_cc226_level0_row8\" class=\"row_heading level0 row8\" >8</th>\n",
       "      <td id=\"T_cc226_row8_col0\" class=\"data row8 col0\" >Settings</td>\n",
       "      <td id=\"T_cc226_row8_col1\" class=\"data row8 col1\" >3</td>\n",
       "      <td id=\"T_cc226_row8_col2\" class=\"data row8 col2\" >11</td>\n",
       "      <td id=\"T_cc226_row8_col3\" class=\"data row8 col3\" >The \"Settings\" component has a moderate risk based on recent bug frequency.</td>\n",
       "    </tr>\n",
       "    <tr>\n",
       "      <th id=\"T_cc226_level0_row9\" class=\"row_heading level0 row9\" >9</th>\n",
       "      <td id=\"T_cc226_row9_col0\" class=\"data row9 col0\" >People/Contacts</td>\n",
       "      <td id=\"T_cc226_row9_col1\" class=\"data row9 col1\" >3</td>\n",
       "      <td id=\"T_cc226_row9_col2\" class=\"data row9 col2\" >11</td>\n",
       "      <td id=\"T_cc226_row9_col3\" class=\"data row9 col3\" >The \"People/Contacts\" component has a moderate risk based on recent bug frequency.</td>\n",
       "    </tr>\n",
       "  </tbody>\n",
       "</table>\n",
       "\n",
       "    </div>\n",
       "    <p style=\"color:#888; font-size:0.95em; margin-top:18px;\">🔎 <i>Table shows top 10 components by unique bug count.</i></p>\n",
       "</div>\n"
      ],
      "text/plain": [
       "<IPython.core.display.HTML object>"
      ]
     },
     "metadata": {},
     "output_type": "display_data"
    }
   ],
   "source": [
    "%pip install plotly\n",
    "%pip install -U kaleido\n",
    "\n",
    "import os\n",
    "import shutil\n",
    "import sys\n",
    "import tempfile\n",
    "\n",
    "# --- Workaround for Kaleido path issues with spaces in directory names ---\n",
    "# Find the Kaleido executable and copy it to a temp directory without spaces, then set env var\n",
    "try:\n",
    "    import kaleido\n",
    "    kaleido_dir = os.path.dirname(kaleido.__file__)\n",
    "    kaleido_exec_dir = os.path.join(kaleido_dir, \"executable\")\n",
    "    kaleido_exec = os.path.join(kaleido_exec_dir, \"kaleido\")\n",
    "    if os.path.exists(kaleido_exec):\n",
    "        temp_exec_dir = os.path.join(tempfile.gettempdir(), \"kaleido_exec\")\n",
    "        os.makedirs(temp_exec_dir, exist_ok=True)\n",
    "        temp_exec = os.path.join(temp_exec_dir, \"kaleido\")\n",
    "        shutil.copy2(kaleido_exec, temp_exec)\n",
    "        # Also copy the bin directory if it exists\n",
    "        bin_dir = os.path.join(kaleido_exec_dir, \"bin\")\n",
    "        if os.path.exists(bin_dir):\n",
    "            temp_bin_dir = os.path.join(temp_exec_dir, \"bin\")\n",
    "            if not os.path.exists(temp_bin_dir):\n",
    "                shutil.copytree(bin_dir, temp_bin_dir)\n",
    "        os.environ[\"KALEIDO_EXECUTABLE_PATH\"] = temp_exec\n",
    "except Exception as e:\n",
    "    print(\"Kaleido workaround failed:\", e)\n",
    "\n",
    "import matplotlib.pyplot as plt\n",
    "import pandas as pd\n",
    "from jira import JIRA\n",
    "from IPython.display import display, Markdown, HTML\n",
    "import io\n",
    "import base64\n",
    "import seaborn as sns\n",
    "import plotly.graph_objects as go\n",
    "from jira import JIRA\n",
    "\n",
    "\n",
    "\n",
    "\n",
    "data = pd.read_csv('../data/processed/DemoData.csv')\n",
    "\n",
    "# --- Only keep the plot code below ---\n",
    "if 'Created' in data.columns:\n",
    "    data['Created'] = pd.to_datetime(data['Created'], errors='coerce', utc=True)\n",
    "    data['Created'] = data['Created'].dt.tz_localize(None)\n",
    "\n",
    "if 'Created' in data.columns and 'Components' in data.columns and not data['Created'].isnull().all():\n",
    "    last_month = data['Created'].max().to_period('M')\n",
    "    last_6_months = pd.period_range(end=last_month, periods=6, freq='M').astype(str)\n",
    "    data['Created_Month'] = data['Created'].dt.to_period('M').astype(str)\n",
    "    data_last6 = data[data['Created_Month'].isin(last_6_months)]\n",
    "\n",
    "  \n",
    "\n",
    "# Prepare data as before\n",
    "component_counts = data_last6['Components'].value_counts()\n",
    "top_n = 10\n",
    "top_components = component_counts[:top_n]\n",
    "other_count = component_counts[top_n:].sum()\n",
    "if other_count > 0:\n",
    "    top_components['Other'] = other_count\n",
    "\n",
    "labels = top_components.index.tolist()\n",
    "values = top_components.values.tolist()\n",
    "\n",
    "\n",
    "\n",
    "# --- Prepare summary values ---\n",
    "\n",
    "report_title_html = f\"\"\"\n",
    "<div style=\"background: #111; border-radius: 12px; padding: 18px 28px; margin-bottom: 24px; box-shadow: 0 2px 8px #222; text-align:center;\">\n",
    "    <h2 style=\"margin-top:0; color:#ffe066;\">🔎 <b>Bug Risk Analysis: DemoData (APP)</b></h2>\n",
    "    <p style=\"font-size: 1.5em; color: #fff; margin: 0 auto; display: inline-block; text-align: center;\">\n",
    "        Analyzing bug distribution and risk scores to spotlight the most vulnerable components.<br>\n",
    "        <b>Data window:</b> Last 6 months<br>\n",
    "        <b>Use:</b> Guide testing, triage, and resource allocation.\n",
    "    </p>\n",
    "</div>\n",
    "\"\"\"\n",
    "display(HTML(report_title_html))\n",
    "\n",
    "\n",
    "# Create interactive 3D-like pie chart\n",
    "# Increase figure size and set font color for readability\n",
    "fig = go.Figure(\n",
    "    data=[go.Pie(\n",
    "        labels=labels,\n",
    "        values=values,\n",
    "        hole=0.3,  # donut style for 3D effect\n",
    "        pull=[0.08]*len(labels),\n",
    "        marker=dict(line=dict(color='#000', width=2)),\n",
    "        hoverinfo='label+percent',\n",
    "        textinfo='label+percent',\n",
    "        textfont_size=20,\n",
    "        textfont_color='white',  # Set label font color to white\n",
    "    )]\n",
    ")\n",
    "# ...existing code...\n",
    "fig.update_layout(\n",
    "    title_text='DemoData (APP) Bugs Distribution by Component (Last 6 Months)',\n",
    "    title_font_size=20,\n",
    "    showlegend=True,\n",
    "    paper_bgcolor='#222',\n",
    "    plot_bgcolor='#222',\n",
    "    font=dict(color='white', size=18),  # Set global font color and size\n",
    "    width=900,   # Increase width\n",
    "    height=700   # Increase height\n",
    ")\n",
    "fig.show()\n",
    "\n",
    "# --- Fix for Kaleido error due to spaces in path ---\n",
    "from IPython.display import Image\n",
    "\n",
    "import plotly.io as pio\n",
    "\n",
    "# Note: Do not set pio.kaleido.scope attributes; use pio.write_image(..., format=\"png\", width=900, height=700) when exporting images.\n",
    "\n",
    "\n",
    "\n",
    "# Explode the Components column so each row has a single component\n",
    "exploded = data_last6.copy()\n",
    "exploded = exploded.assign(Component=exploded['Components'].str.split(',')).explode('Component')\n",
    "exploded['Component'] = exploded['Component'].str.strip()\n",
    "\n",
    "# Reverse risk ranking: higher bug count = higher risk score\n",
    "component_counts = exploded['Component'].value_counts()\n",
    "component_risk_rank = component_counts.rank(ascending=True, method='min').astype(int)\n",
    "component_risk_map = component_risk_rank.to_dict()\n",
    "max_rank = component_risk_rank.max()\n",
    "\n",
    "component_summary = (\n",
    "    exploded.groupby('Component')\n",
    "    .agg(\n",
    "        Bug_Count=('key', 'nunique'),\n",
    "    )\n",
    "    .reset_index()\n",
    ")\n",
    "component_summary['Risk_Score'] = component_summary['Component'].map(component_risk_map)\n",
    "\n",
    "def get_explanation(component, risk_score, max_rank):\n",
    "    if risk_score == max_rank:\n",
    "        return f'The \"{component}\" component has a very high history of bugs, making it high-risk.'\n",
    "    elif risk_score <= 2:\n",
    "        return f'The \"{component}\" component has a low history of bugs, making it low-risk.'\n",
    "    else:\n",
    "        return f'The \"{component}\" component has a moderate risk based on recent bug frequency.'\n",
    "\n",
    "component_summary['Explanation'] = [\n",
    "    get_explanation(row['Component'], row['Risk_Score'], max_rank)\n",
    "    for _, row in component_summary.iterrows()\n",
    "]\n",
    "\n",
    "# ...rest of your table code...\n",
    "def component_risk_table(data, project_name):\n",
    "    # Use both Created and Resolved for last 6 months filter\n",
    "    if 'Created' in data.columns:\n",
    "        data['Created'] = pd.to_datetime(data['Created'], errors='coerce', utc=True).dt.tz_localize(None)\n",
    "    if 'Resolved' in data.columns:\n",
    "        data['Resolved'] = pd.to_datetime(data['Resolved'], errors='coerce', utc=True).dt.tz_localize(None)\n",
    "\n",
    "    if 'Created' in data.columns and 'Resolved' in data.columns and not data['Created'].isnull().all():\n",
    "        last_month = max(data['Created'].max(), data['Resolved'].max())\n",
    "        last_month = last_month.to_period('M')\n",
    "        last_6_months = pd.period_range(end=last_month, periods=6, freq='M').astype(str)\n",
    "        data['Created_Month'] = data['Created'].dt.to_period('M').astype(str)\n",
    "        data['Resolved_Month'] = data['Resolved'].dt.to_period('M').astype(str)\n",
    "        data_last6 = data[\n",
    "            data['Created_Month'].isin(last_6_months) | data['Resolved_Month'].isin(last_6_months)\n",
    "        ]\n",
    "    else:\n",
    "        data_last6 = data.copy()\n",
    "\n",
    "    component_risk_rank = data_last6['Components'].value_counts().rank(ascending=False, method='min').astype(int)\n",
    "    component_risk_map = component_risk_rank.to_dict()\n",
    "    max_rank = component_risk_rank.max()\n",
    "\n",
    "    summary_df = data[['key', 'Components']].copy()\n",
    "    # Assign risk score using component_risk_map, default to 1 if not found\n",
    "    summary_df['Risk Score'] = data['Components'].apply(lambda x: component_risk_map.get(x, 1))\n",
    "    summary_df['Explanation'] = [\n",
    "        get_explanation(row['Components'], row['Risk Score'], max_rank) for _, row in summary_df.iterrows()\n",
    "    ]\n",
    "    summary_df = summary_df.rename(columns={'key': '🐞 Bug ID', 'Components': '🧩 Components'})\n",
    "\n",
    "    # Add color to Risk Score\n",
    "    def color_risk(val):\n",
    "        try:\n",
    "            score = int(str(val).split()[0])\n",
    "            if score == max_rank:\n",
    "                color = '#ff4d4d'  # Red\n",
    "                text_color = 'white'\n",
    "            elif score <= 2:\n",
    "                color = '#85e085'  # Green\n",
    "                text_color = 'black'\n",
    "            else:\n",
    "                color = '#ffd966'  # Yellow\n",
    "                text_color = 'black'\n",
    "            return f'background-color: {color}; color: {text_color}; font-weight: bold;'\n",
    "        except:\n",
    "            return ''\n",
    "    \n",
    "    # Fancy summary and table\n",
    "    # Compute summary values for the last 6 months\n",
    "    all_components = (\n",
    "        data_last6['Components']\n",
    "        .dropna()\n",
    "        .astype(str)\n",
    "        .str.split(',')\n",
    "        .explode()\n",
    "        .str.strip()\n",
    "    )\n",
    "    component_counts = all_components.value_counts()\n",
    "    top_n = 10\n",
    "    top_components = component_counts[:top_n]\n",
    "    other_count = component_counts[top_n:].sum()\n",
    "    if other_count > 0:\n",
    "        top_components['Other'] = other_count\n",
    "\n",
    "    # ...existing code...\n",
    "\n",
    "    # Compute summary values for the last 6 months\n",
    "    # ...existing code...\n",
    "    # (Function ends here)\n",
    "\n",
    "# Explode components for a component-centric table\n",
    "# ...existing code...\n",
    "\n",
    "# Group by component for summary\n",
    "# ...after exploded is created...\n",
    "\n",
    "# Group by component for summary\n",
    "component_summary = (\n",
    "    exploded.groupby('Component')\n",
    "    .agg(\n",
    "        Bug_Count=('key', 'nunique'),\n",
    "    )\n",
    "    .sort_values('Bug_Count', ascending=False)\n",
    "    .reset_index()\n",
    ")\n",
    "\n",
    "# ...existing code...\n",
    "# --- Summary values ---\n",
    "project_name = \"DemoData (APP)\"\n",
    "total_bugs = data_last6['key'].nunique()\n",
    "top_component = component_counts.idxmax()\n",
    "top_count = component_counts.max()\n",
    "top_bug_count = exploded[exploded['Component'] == top_component]['key'].nunique()\n",
    "\n",
    "summary_html = f\"\"\"\n",
    "<div style=\"background: #111; border-radius: 12px; padding: 18px 28px; margin-bottom: 24px; box-shadow: 0 2px 8px #222;\">\n",
    "    <h2 style=\"margin-top:0; color:#ffe066;\">✨ <b>Risk Scoring Summary for {project_name}</b> ✨</h2>\n",
    "    <ul style=\"font-size: 1.2em; color: #fff;\">\n",
    "        <li><b>Total bugs (last 6 months):</b> {total_bugs}</li>\n",
    "        <li><b>Top risk component:</b> <span style=\"color:#ffd166;\">{top_component}</span>\n",
    "            ({top_count} occurrences in {top_bug_count} bugs)\n",
    "        </li>\n",
    "        <li><b>Scoring based on:</b> Created date in last 6 months</li>\n",
    "    </ul>\n",
    "</div>\n",
    "\"\"\"\n",
    "display(HTML(summary_html))\n",
    "# Assign risk score: highest bug count = highest risk score\n",
    "component_summary['Risk_Score'] = component_summary['Bug_Count'].rank(ascending=True, method='min').astype(int)\n",
    "max_rank = component_summary['Risk_Score'].max()\n",
    "\n",
    "def get_explanation(component, risk_score, max_rank):\n",
    "    if risk_score == max_rank:\n",
    "        return f'The \"{component}\" component has a very high history of bugs, making it high-risk.'\n",
    "    elif risk_score <= 2:\n",
    "        return f'The \"{component}\" component has a low history of bugs, making it low-risk.'\n",
    "    else:\n",
    "        return f'The \"{component}\" component has a moderate risk based on recent bug frequency.'\n",
    "\n",
    "# Add Explanation column BEFORE taking top 10\n",
    "component_summary['Explanation'] = [\n",
    "    get_explanation(row['Component'], row['Risk_Score'], max_rank)\n",
    "    for _, row in component_summary.iterrows()\n",
    "]\n",
    "\n",
    "# ...existing code...\n",
    "\n",
    "# Take top 10 components by bug count for display\n",
    "component_summary_top = component_summary.head(10)\n",
    "\n",
    "# Find min and max risk score in the displayed table\n",
    "min_risk = component_summary_top['Risk_Score'].min()\n",
    "max_risk = component_summary_top['Risk_Score'].max()\n",
    "\n",
    "# Style table with color for Risk Score\n",
    "def color_risk(val):\n",
    "    try:\n",
    "        score = int(val)\n",
    "        if score == max_risk:\n",
    "            color = '#ff4d4d'  # Red for high risk\n",
    "            text_color = 'white'\n",
    "        elif score == min_risk:\n",
    "            color = '#85e085'  # Green for low risk\n",
    "            text_color = 'black'\n",
    "        else:\n",
    "            color = '#ffd966'  # Yellow for moderate risk\n",
    "            text_color = 'black'\n",
    "        return f'background-color: {color}; color: {text_color}; font-weight: bold;'\n",
    "    except Exception:\n",
    "        return ''\n",
    "\n",
    "styled_summary = component_summary_top.rename(\n",
    "    columns={'Component': '🧩 Component', 'Bug_Count': '🐞 Bug Count', 'Risk_Score': 'Risk Score'}\n",
    ").style.set_properties(\n",
    "    subset=['Explanation'],\n",
    "    **{'white-space': 'pre-wrap', 'word-break': 'break-word', 'max-width': '400px'}\n",
    ").map(color_risk, subset=['Risk Score']).set_table_styles([\n",
    "    {'selector': 'th', 'props': [('background-color', \"#1a1368\"), ('color', 'white'), ('font-size', '1.1em')]}\n",
    "])\n",
    "\n",
    "display(HTML(f\"\"\"\n",
    "<div style=\"display: flex; flex-direction: column; align-items: center;\">\n",
    "    <h3 style=\"text-align:center; color:#ffd166;\">📊 <b>Top Components by Bug Count</b></h3>\n",
    "    <div style=\"min-width:450px; max-width:900px;\">\n",
    "        {styled_summary.to_html(escape=False)}\n",
    "    </div>\n",
    "    <p style=\"color:#888; font-size:0.95em; margin-top:18px;\">🔎 <i>Table shows top 10 components by unique bug count.</i></p>\n",
    "</div>\n",
    "\"\"\"))\n",
    "# ...existing code...\n",
    "component_risk_table(data, \"DemoData (APP)\")"
   ]
  }
 ],
 "metadata": {
  "kernelspec": {
   "display_name": "venv",
   "language": "python",
   "name": "python3"
  },
  "language_info": {
   "codemirror_mode": {
    "name": "ipython",
    "version": 3
   },
   "file_extension": ".py",
   "mimetype": "text/x-python",
   "name": "python",
   "nbconvert_exporter": "python",
   "pygments_lexer": "ipython3",
   "version": "3.13.5"
  }
 },
 "nbformat": 4,
 "nbformat_minor": 5
}
